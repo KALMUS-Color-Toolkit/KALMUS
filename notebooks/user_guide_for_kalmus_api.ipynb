{
 "cells": [
  {
   "cell_type": "code",
   "execution_count": 1,
   "metadata": {},
   "outputs": [],
   "source": [
    "from notebook_utils import show_image_with_color\n",
    "import matplotlib.pyplot as plt"
   ]
  },
  {
   "cell_type": "code",
   "execution_count": 3,
   "metadata": {},
   "outputs": [
    {
     "data": {
      "application/vnd.jupyter.widget-view+json": {
       "model_id": "66beac8292c54e4eae99f91120ee8790",
       "version_major": 2,
       "version_minor": 0
      },
      "text/plain": [
       "Canvas(toolbar=Toolbar(toolitems=[('Home', 'Reset original view', 'home', 'home'), ('Back', 'Back to previous …"
      ]
     },
     "metadata": {},
     "output_type": "display_data"
    }
   ],
   "source": [
    "image = plt.imread(\"notebook_example_data/casino_royale_2.jpg\")\n",
    "\n",
    "fig, ax = plt.subplots(1, 2, figsize=(9, 3), sharey=True)\n",
    "ax[0].imshow(image)\n",
    "ax[0].set_title(\"Original Frame\")\n",
    "ax[0].axis(\"off\")\n",
    "show_image_with_color(image, add_separate_line=True, frame_type=\"High_contrast_region\", ax=ax[1], axis_off=True)\n",
    "\n",
    "plt.tight_layout()\n",
    "plt.savefig(\"casino_2_high_average\", dpi=200, bbox_inches='tight')"
   ]
  },
  {
   "cell_type": "code",
   "execution_count": 57,
   "metadata": {},
   "outputs": [
    {
     "name": "stderr",
     "output_type": "stream",
     "text": [
      "C:\\Users\\YidaChen\\AppData\\Roaming\\Python\\Python37\\site-packages\\ipykernel_launcher.py:3: RuntimeWarning: More than 20 figures have been opened. Figures created through the pyplot interface (`matplotlib.pyplot.figure`) are retained until explicitly closed and may consume too much memory. (To control this warning, see the rcParam `figure.max_open_warning`).\n",
      "  This is separate from the ipykernel package so we can avoid doing imports until\n"
     ]
    },
    {
     "data": {
      "application/vnd.jupyter.widget-view+json": {
       "model_id": "059b1a9c1988458ebec629855b2409e8",
       "version_major": 2,
       "version_minor": 0
      },
      "text/plain": [
       "Canvas(toolbar=Toolbar(toolitems=[('Home', 'Reset original view', 'home', 'home'), ('Back', 'Back to previous …"
      ]
     },
     "metadata": {},
     "output_type": "display_data"
    }
   ],
   "source": [
    "image = plt.imread(\"notebook_example_data/casino_royale_2.jpg\")\n",
    "\n",
    "fig, ax = plt.subplots(1, 2, figsize=(9, 3), sharey=True)\n",
    "ax[0].imshow(image)\n",
    "ax[0].set_title(\"Original Frame\")\n",
    "ax[0].axis(\"off\")\n",
    "show_image_with_color(image, add_separate_line=True, frame_type=\"Whole_frame\", ax=ax[1], axis_off=True)\n",
    "\n",
    "plt.tight_layout()\n",
    "plt.savefig(\"casino_2_whole_average\", dpi=200, bbox_inches='tight')"
   ]
  },
  {
   "cell_type": "code",
   "execution_count": 58,
   "metadata": {},
   "outputs": [
    {
     "name": "stderr",
     "output_type": "stream",
     "text": [
      "C:\\Users\\YidaChen\\AppData\\Roaming\\Python\\Python37\\site-packages\\ipykernel_launcher.py:3: RuntimeWarning: More than 20 figures have been opened. Figures created through the pyplot interface (`matplotlib.pyplot.figure`) are retained until explicitly closed and may consume too much memory. (To control this warning, see the rcParam `figure.max_open_warning`).\n",
      "  This is separate from the ipykernel package so we can avoid doing imports until\n"
     ]
    },
    {
     "data": {
      "application/vnd.jupyter.widget-view+json": {
       "model_id": "bd47959931c24f27b340df8cbb1d50ab",
       "version_major": 2,
       "version_minor": 0
      },
      "text/plain": [
       "Canvas(toolbar=Toolbar(toolitems=[('Home', 'Reset original view', 'home', 'home'), ('Back', 'Back to previous …"
      ]
     },
     "metadata": {},
     "output_type": "display_data"
    }
   ],
   "source": [
    "image = plt.imread(\"notebook_example_data/casino_royale_1.jpg\")\n",
    "\n",
    "fig, ax = plt.subplots(1, 2, figsize=(9, 3))\n",
    "ax[0].imshow(image)\n",
    "ax[0].set_title(\"Original Frame\")\n",
    "ax[0].axis(\"off\")\n",
    "show_image_with_color(image, add_separate_line=True, frame_type=\"Foreground\", ax=ax[1], axis_off=True)\n",
    "\n",
    "plt.tight_layout()\n",
    "plt.savefig(\"casino_1_fore_average\", dpi=200, bbox_inches='tight')"
   ]
  },
  {
   "cell_type": "code",
   "execution_count": 59,
   "metadata": {},
   "outputs": [
    {
     "name": "stderr",
     "output_type": "stream",
     "text": [
      "C:\\Users\\YidaChen\\AppData\\Roaming\\Python\\Python37\\site-packages\\ipykernel_launcher.py:3: RuntimeWarning: More than 20 figures have been opened. Figures created through the pyplot interface (`matplotlib.pyplot.figure`) are retained until explicitly closed and may consume too much memory. (To control this warning, see the rcParam `figure.max_open_warning`).\n",
      "  This is separate from the ipykernel package so we can avoid doing imports until\n"
     ]
    },
    {
     "data": {
      "application/vnd.jupyter.widget-view+json": {
       "model_id": "511133926acb4c5ea5f35a7a00caa928",
       "version_major": 2,
       "version_minor": 0
      },
      "text/plain": [
       "Canvas(toolbar=Toolbar(toolitems=[('Home', 'Reset original view', 'home', 'home'), ('Back', 'Back to previous …"
      ]
     },
     "metadata": {},
     "output_type": "display_data"
    }
   ],
   "source": [
    "image = plt.imread(\"notebook_example_data/casino_royale_1.jpg\")\n",
    "\n",
    "fig, ax = plt.subplots(1, 2, figsize=(9, 3))\n",
    "ax[0].imshow(image)\n",
    "ax[0].set_title(\"Original Frame\")\n",
    "ax[0].axis(\"off\")\n",
    "show_image_with_color(image, add_separate_line=True, frame_type=\"High_contrast_region\", ax=ax[1], axis_off=True)\n",
    "\n",
    "plt.tight_layout()\n",
    "plt.savefig(\"casino_1_high_average\", dpi=200, bbox_inches='tight')"
   ]
  },
  {
   "cell_type": "code",
   "execution_count": 60,
   "metadata": {},
   "outputs": [
    {
     "name": "stderr",
     "output_type": "stream",
     "text": [
      "C:\\Users\\YidaChen\\AppData\\Roaming\\Python\\Python37\\site-packages\\ipykernel_launcher.py:3: RuntimeWarning: More than 20 figures have been opened. Figures created through the pyplot interface (`matplotlib.pyplot.figure`) are retained until explicitly closed and may consume too much memory. (To control this warning, see the rcParam `figure.max_open_warning`).\n",
      "  This is separate from the ipykernel package so we can avoid doing imports until\n"
     ]
    },
    {
     "data": {
      "application/vnd.jupyter.widget-view+json": {
       "model_id": "15c7362582c74932b8593368d5c358ca",
       "version_major": 2,
       "version_minor": 0
      },
      "text/plain": [
       "Canvas(toolbar=Toolbar(toolitems=[('Home', 'Reset original view', 'home', 'home'), ('Back', 'Back to previous …"
      ]
     },
     "metadata": {},
     "output_type": "display_data"
    }
   ],
   "source": [
    "image = plt.imread(\"notebook_example_data/casino_royale_1.jpg\")\n",
    "\n",
    "fig, ax = plt.subplots(1, 2, figsize=(9, 3))\n",
    "ax[0].imshow(image)\n",
    "ax[0].set_title(\"Original Frame\")\n",
    "ax[0].axis(\"off\")\n",
    "show_image_with_color(image, add_separate_line=True, ax=ax[1], axis_off=True)\n",
    "\n",
    "plt.tight_layout()\n",
    "plt.savefig(\"casino_1_whole_average\", dpi=200, bbox_inches='tight')"
   ]
  },
  {
   "cell_type": "code",
   "execution_count": 61,
   "metadata": {},
   "outputs": [
    {
     "name": "stderr",
     "output_type": "stream",
     "text": [
      "C:\\Users\\YidaChen\\AppData\\Roaming\\Python\\Python37\\site-packages\\ipykernel_launcher.py:3: RuntimeWarning: More than 20 figures have been opened. Figures created through the pyplot interface (`matplotlib.pyplot.figure`) are retained until explicitly closed and may consume too much memory. (To control this warning, see the rcParam `figure.max_open_warning`).\n",
      "  This is separate from the ipykernel package so we can avoid doing imports until\n"
     ]
    },
    {
     "data": {
      "application/vnd.jupyter.widget-view+json": {
       "model_id": "243cab8f8d3d4eed8cf4a1aa1f867bdd",
       "version_major": 2,
       "version_minor": 0
      },
      "text/plain": [
       "Canvas(toolbar=Toolbar(toolitems=[('Home', 'Reset original view', 'home', 'home'), ('Back', 'Back to previous …"
      ]
     },
     "metadata": {},
     "output_type": "display_data"
    }
   ],
   "source": [
    "image = plt.imread(\"notebook_example_data/increbiles_1.jpg\")\n",
    "\n",
    "fig, ax = plt.subplots(1, 2, figsize=(9, 3))\n",
    "ax[0].imshow(image)\n",
    "ax[0].set_title(\"Original Frame\")\n",
    "ax[0].axis(\"off\")\n",
    "show_image_with_color(image, add_separate_line=True, color_metric=\"Mode\", ax=ax[1], axis_off=True)\n",
    "\n",
    "plt.tight_layout()\n",
    "plt.savefig(\"incredible_1_whole_mode\", dpi=200, bbox_inches='tight')"
   ]
  },
  {
   "cell_type": "code",
   "execution_count": 63,
   "metadata": {},
   "outputs": [
    {
     "name": "stderr",
     "output_type": "stream",
     "text": [
      "C:\\Users\\YidaChen\\AppData\\Roaming\\Python\\Python37\\site-packages\\ipykernel_launcher.py:3: RuntimeWarning: More than 20 figures have been opened. Figures created through the pyplot interface (`matplotlib.pyplot.figure`) are retained until explicitly closed and may consume too much memory. (To control this warning, see the rcParam `figure.max_open_warning`).\n",
      "  This is separate from the ipykernel package so we can avoid doing imports until\n"
     ]
    },
    {
     "data": {
      "application/vnd.jupyter.widget-view+json": {
       "model_id": "acb39989b03d4b838415987af44f92a2",
       "version_major": 2,
       "version_minor": 0
      },
      "text/plain": [
       "Canvas(toolbar=Toolbar(toolitems=[('Home', 'Reset original view', 'home', 'home'), ('Back', 'Back to previous …"
      ]
     },
     "metadata": {},
     "output_type": "display_data"
    }
   ],
   "source": [
    "image = plt.imread(\"notebook_example_data/increbiles_1.jpg\")\n",
    "\n",
    "fig, ax = plt.subplots(1, 2, figsize=(9, 3))\n",
    "ax[0].imshow(image)\n",
    "ax[0].set_title(\"Original Frame\")\n",
    "ax[0].axis(\"off\")\n",
    "show_image_with_color(image, add_separate_line=True, color_metric=\"Top-dominant\", ax=ax[1], axis_off=True)\n",
    "\n",
    "plt.tight_layout()\n",
    "plt.savefig(\"incredible_1_whole_dominant\", dpi=200, bbox_inches='tight')"
   ]
  },
  {
   "cell_type": "code",
   "execution_count": 64,
   "metadata": {},
   "outputs": [
    {
     "name": "stderr",
     "output_type": "stream",
     "text": [
      "C:\\Users\\YidaChen\\AppData\\Roaming\\Python\\Python37\\site-packages\\ipykernel_launcher.py:3: RuntimeWarning: More than 20 figures have been opened. Figures created through the pyplot interface (`matplotlib.pyplot.figure`) are retained until explicitly closed and may consume too much memory. (To control this warning, see the rcParam `figure.max_open_warning`).\n",
      "  This is separate from the ipykernel package so we can avoid doing imports until\n"
     ]
    },
    {
     "data": {
      "application/vnd.jupyter.widget-view+json": {
       "model_id": "68092ac59e5843fbab2322d51c8fd942",
       "version_major": 2,
       "version_minor": 0
      },
      "text/plain": [
       "Canvas(toolbar=Toolbar(toolitems=[('Home', 'Reset original view', 'home', 'home'), ('Back', 'Back to previous …"
      ]
     },
     "metadata": {},
     "output_type": "display_data"
    }
   ],
   "source": [
    "image = plt.imread(\"notebook_example_data/increbiles_1.jpg\")\n",
    "\n",
    "fig, ax = plt.subplots(1, 2, figsize=(9, 3))\n",
    "ax[0].imshow(image)\n",
    "ax[0].set_title(\"Original Frame\")\n",
    "ax[0].axis(\"off\")\n",
    "show_image_with_color(image, add_separate_line=True, color_metric=\"Brightest\", ax=ax[1], axis_off=True)\n",
    "\n",
    "plt.tight_layout()\n",
    "plt.savefig(\"incredible_1_whole_brightest\", dpi=200, bbox_inches='tight')"
   ]
  },
  {
   "cell_type": "code",
   "execution_count": 66,
   "metadata": {},
   "outputs": [
    {
     "name": "stderr",
     "output_type": "stream",
     "text": [
      "C:\\Users\\YidaChen\\AppData\\Roaming\\Python\\Python37\\site-packages\\ipykernel_launcher.py:3: RuntimeWarning: More than 20 figures have been opened. Figures created through the pyplot interface (`matplotlib.pyplot.figure`) are retained until explicitly closed and may consume too much memory. (To control this warning, see the rcParam `figure.max_open_warning`).\n",
      "  This is separate from the ipykernel package so we can avoid doing imports until\n"
     ]
    },
    {
     "data": {
      "application/vnd.jupyter.widget-view+json": {
       "model_id": "c894cf92645c40c4a5921f5a262802fb",
       "version_major": 2,
       "version_minor": 0
      },
      "text/plain": [
       "Canvas(toolbar=Toolbar(toolitems=[('Home', 'Reset original view', 'home', 'home'), ('Back', 'Back to previous …"
      ]
     },
     "metadata": {},
     "output_type": "display_data"
    }
   ],
   "source": [
    "image = plt.imread(\"notebook_example_data/mission_impossible_1.jpg\")\n",
    "\n",
    "fig, ax = plt.subplots(1, 2, figsize=(9, 3))\n",
    "ax[0].imshow(image)\n",
    "ax[0].set_title(\"Original Frame\")\n",
    "ax[0].axis(\"off\")\n",
    "show_image_with_color(image, add_separate_line=True, color_metric=\"Mode\", frame_type=\"Whole_frame\", ax=ax[1], axis_off=True)\n",
    "\n",
    "plt.tight_layout()\n",
    "plt.savefig(\"mission_1_whole_mode\", dpi=200, bbox_inches='tight')"
   ]
  },
  {
   "cell_type": "code",
   "execution_count": 67,
   "metadata": {},
   "outputs": [
    {
     "name": "stderr",
     "output_type": "stream",
     "text": [
      "C:\\Users\\YidaChen\\AppData\\Roaming\\Python\\Python37\\site-packages\\ipykernel_launcher.py:3: RuntimeWarning: More than 20 figures have been opened. Figures created through the pyplot interface (`matplotlib.pyplot.figure`) are retained until explicitly closed and may consume too much memory. (To control this warning, see the rcParam `figure.max_open_warning`).\n",
      "  This is separate from the ipykernel package so we can avoid doing imports until\n"
     ]
    },
    {
     "data": {
      "application/vnd.jupyter.widget-view+json": {
       "model_id": "ce81971672b54f89b6895720506b0fda",
       "version_major": 2,
       "version_minor": 0
      },
      "text/plain": [
       "Canvas(toolbar=Toolbar(toolitems=[('Home', 'Reset original view', 'home', 'home'), ('Back', 'Back to previous …"
      ]
     },
     "metadata": {},
     "output_type": "display_data"
    }
   ],
   "source": [
    "image = plt.imread(\"notebook_example_data/mission_impossible_1.jpg\")\n",
    "\n",
    "fig, ax = plt.subplots(1, 2, figsize=(9, 3))\n",
    "ax[0].imshow(image)\n",
    "ax[0].set_title(\"Original Frame\")\n",
    "ax[0].axis(\"off\")\n",
    "show_image_with_color(image, add_separate_line=True, color_metric=\"Mode\", frame_type=\"Foreground\", ax=ax[1], axis_off=True)\n",
    "\n",
    "plt.tight_layout()\n",
    "plt.savefig(\"mission_1_fore_mode\", dpi=200, bbox_inches='tight')"
   ]
  },
  {
   "cell_type": "code",
   "execution_count": 68,
   "metadata": {},
   "outputs": [
    {
     "name": "stderr",
     "output_type": "stream",
     "text": [
      "C:\\Users\\YidaChen\\AppData\\Roaming\\Python\\Python37\\site-packages\\ipykernel_launcher.py:3: RuntimeWarning: More than 20 figures have been opened. Figures created through the pyplot interface (`matplotlib.pyplot.figure`) are retained until explicitly closed and may consume too much memory. (To control this warning, see the rcParam `figure.max_open_warning`).\n",
      "  This is separate from the ipykernel package so we can avoid doing imports until\n"
     ]
    },
    {
     "data": {
      "application/vnd.jupyter.widget-view+json": {
       "model_id": "a3325096f6c54961a6b0f6d1e2851478",
       "version_major": 2,
       "version_minor": 0
      },
      "text/plain": [
       "Canvas(toolbar=Toolbar(toolitems=[('Home', 'Reset original view', 'home', 'home'), ('Back', 'Back to previous …"
      ]
     },
     "metadata": {},
     "output_type": "display_data"
    }
   ],
   "source": [
    "image = plt.imread(\"notebook_example_data/mission_impossible_1.jpg\")\n",
    "\n",
    "fig, ax = plt.subplots(1, 2, figsize=(9, 3))\n",
    "ax[0].imshow(image)\n",
    "ax[0].set_title(\"Original Frame\")\n",
    "ax[0].axis(\"off\")\n",
    "show_image_with_color(image, add_separate_line=True, color_metric=\"Average\", frame_type=\"Foreground\", ax=ax[1], axis_off=True)\n",
    "\n",
    "plt.tight_layout()\n",
    "plt.savefig(\"mission_1_fore_avg\", dpi=200, bbox_inches='tight')"
   ]
  },
  {
   "cell_type": "code",
   "execution_count": 69,
   "metadata": {},
   "outputs": [
    {
     "name": "stderr",
     "output_type": "stream",
     "text": [
      "C:\\Users\\YidaChen\\AppData\\Roaming\\Python\\Python37\\site-packages\\ipykernel_launcher.py:3: RuntimeWarning: More than 20 figures have been opened. Figures created through the pyplot interface (`matplotlib.pyplot.figure`) are retained until explicitly closed and may consume too much memory. (To control this warning, see the rcParam `figure.max_open_warning`).\n",
      "  This is separate from the ipykernel package so we can avoid doing imports until\n"
     ]
    },
    {
     "data": {
      "application/vnd.jupyter.widget-view+json": {
       "model_id": "52cf93f79a064fdab578f458b849f915",
       "version_major": 2,
       "version_minor": 0
      },
      "text/plain": [
       "Canvas(toolbar=Toolbar(toolitems=[('Home', 'Reset original view', 'home', 'home'), ('Back', 'Back to previous …"
      ]
     },
     "metadata": {},
     "output_type": "display_data"
    }
   ],
   "source": [
    "image = plt.imread(\"notebook_example_data/i_robot_2.jpg\")\n",
    "\n",
    "fig, ax = plt.subplots(1, 2, figsize=(9, 3))\n",
    "ax[0].imshow(image)\n",
    "ax[0].set_title(\"Original Frame\")\n",
    "ax[0].axis(\"off\")\n",
    "show_image_with_color(image, add_separate_line=True, color_metric=\"Mode\", frame_type=\"High_contrast_region\", ax=ax[1], axis_off=True)\n",
    "\n",
    "plt.tight_layout()\n",
    "plt.savefig(\"robot_1_high_mode\", dpi=200, bbox_inches='tight')"
   ]
  },
  {
   "cell_type": "code",
   "execution_count": 71,
   "metadata": {},
   "outputs": [
    {
     "name": "stderr",
     "output_type": "stream",
     "text": [
      "C:\\Users\\YidaChen\\AppData\\Roaming\\Python\\Python37\\site-packages\\ipykernel_launcher.py:3: RuntimeWarning: More than 20 figures have been opened. Figures created through the pyplot interface (`matplotlib.pyplot.figure`) are retained until explicitly closed and may consume too much memory. (To control this warning, see the rcParam `figure.max_open_warning`).\n",
      "  This is separate from the ipykernel package so we can avoid doing imports until\n"
     ]
    },
    {
     "data": {
      "application/vnd.jupyter.widget-view+json": {
       "model_id": "734813055ad840b9a4ccd461bcb1a16e",
       "version_major": 2,
       "version_minor": 0
      },
      "text/plain": [
       "Canvas(toolbar=Toolbar(toolitems=[('Home', 'Reset original view', 'home', 'home'), ('Back', 'Back to previous …"
      ]
     },
     "metadata": {},
     "output_type": "display_data"
    }
   ],
   "source": [
    "image = plt.imread(\"notebook_example_data/i_robot_1.jpg\")\n",
    "\n",
    "fig, ax = plt.subplots(1, 2, figsize=(9, 3))\n",
    "ax[0].imshow(image)\n",
    "ax[0].set_title(\"Original Frame\")\n",
    "ax[0].axis(\"off\")\n",
    "show_image_with_color(image, add_separate_line=True, color_metric=\"Median\", ax=ax[1], axis_off=True)\n",
    "\n",
    "plt.tight_layout()\n",
    "plt.savefig(\"mission_2_whole_median\", dpi=200, bbox_inches='tight')"
   ]
  },
  {
   "cell_type": "code",
   "execution_count": 72,
   "metadata": {},
   "outputs": [
    {
     "name": "stderr",
     "output_type": "stream",
     "text": [
      "C:\\Users\\YidaChen\\AppData\\Roaming\\Python\\Python37\\site-packages\\ipykernel_launcher.py:3: RuntimeWarning: More than 20 figures have been opened. Figures created through the pyplot interface (`matplotlib.pyplot.figure`) are retained until explicitly closed and may consume too much memory. (To control this warning, see the rcParam `figure.max_open_warning`).\n",
      "  This is separate from the ipykernel package so we can avoid doing imports until\n"
     ]
    },
    {
     "data": {
      "application/vnd.jupyter.widget-view+json": {
       "model_id": "59b055f0cc914077bf4c2dd4f054c426",
       "version_major": 2,
       "version_minor": 0
      },
      "text/plain": [
       "Canvas(toolbar=Toolbar(toolitems=[('Home', 'Reset original view', 'home', 'home'), ('Back', 'Back to previous …"
      ]
     },
     "metadata": {},
     "output_type": "display_data"
    }
   ],
   "source": [
    "image = plt.imread(\"notebook_example_data/i_robot_1.jpg\")\n",
    "\n",
    "fig, ax = plt.subplots(1, 2, figsize=(9, 3))\n",
    "ax[0].imshow(image)\n",
    "ax[0].set_title(\"Original Frame\")\n",
    "ax[0].axis(\"off\")\n",
    "show_image_with_color(image, add_separate_line=True, color_metric=\"Median\", frame_type=\"Foreground\", ax=ax[1], axis_off=True)\n",
    "\n",
    "plt.tight_layout()\n",
    "plt.savefig(\"mission_2_fore_median\", dpi=200, bbox_inches='tight')"
   ]
  },
  {
   "cell_type": "code",
   "execution_count": 73,
   "metadata": {},
   "outputs": [
    {
     "name": "stderr",
     "output_type": "stream",
     "text": [
      "C:\\Users\\YidaChen\\AppData\\Roaming\\Python\\Python37\\site-packages\\ipykernel_launcher.py:3: RuntimeWarning: More than 20 figures have been opened. Figures created through the pyplot interface (`matplotlib.pyplot.figure`) are retained until explicitly closed and may consume too much memory. (To control this warning, see the rcParam `figure.max_open_warning`).\n",
      "  This is separate from the ipykernel package so we can avoid doing imports until\n"
     ]
    },
    {
     "data": {
      "application/vnd.jupyter.widget-view+json": {
       "model_id": "5d0701cd487f400e952fb17aaa202490",
       "version_major": 2,
       "version_minor": 0
      },
      "text/plain": [
       "Canvas(toolbar=Toolbar(toolitems=[('Home', 'Reset original view', 'home', 'home'), ('Back', 'Back to previous …"
      ]
     },
     "metadata": {},
     "output_type": "display_data"
    }
   ],
   "source": [
    "image = plt.imread(\"notebook_example_data/i_robot_1.jpg\")\n",
    "\n",
    "fig, ax = plt.subplots(1, 2, figsize=(9, 3))\n",
    "ax[0].imshow(image)\n",
    "ax[0].set_title(\"Original Frame\")\n",
    "ax[0].axis(\"off\")\n",
    "show_image_with_color(image, add_separate_line=True, color_metric=\"Median\", frame_type=\"Background\", ax=ax[1], axis_off=True)\n",
    "\n",
    "plt.tight_layout()\n",
    "plt.savefig(\"mission_2_back_median\", dpi=200, bbox_inches='tight')"
   ]
  },
  {
   "cell_type": "code",
   "execution_count": null,
   "metadata": {},
   "outputs": [],
   "source": []
  },
  {
   "cell_type": "code",
   "execution_count": null,
   "metadata": {},
   "outputs": [],
   "source": []
  },
  {
   "cell_type": "code",
   "execution_count": null,
   "metadata": {},
   "outputs": [],
   "source": []
  },
  {
   "cell_type": "code",
   "execution_count": null,
   "metadata": {},
   "outputs": [],
   "source": []
  },
  {
   "cell_type": "code",
   "execution_count": null,
   "metadata": {},
   "outputs": [],
   "source": []
  },
  {
   "cell_type": "code",
   "execution_count": null,
   "metadata": {},
   "outputs": [],
   "source": []
  },
  {
   "cell_type": "code",
   "execution_count": null,
   "metadata": {},
   "outputs": [],
   "source": []
  },
  {
   "cell_type": "code",
   "execution_count": null,
   "metadata": {},
   "outputs": [],
   "source": []
  }
 ],
 "metadata": {
  "kernelspec": {
   "display_name": "Python 3",
   "language": "python",
   "name": "python3"
  },
  "language_info": {
   "codemirror_mode": {
    "name": "ipython",
    "version": 3
   },
   "file_extension": ".py",
   "mimetype": "text/x-python",
   "name": "python",
   "nbconvert_exporter": "python",
   "pygments_lexer": "ipython3",
   "version": "3.7.0"
  }
 },
 "nbformat": 4,
 "nbformat_minor": 4
}
