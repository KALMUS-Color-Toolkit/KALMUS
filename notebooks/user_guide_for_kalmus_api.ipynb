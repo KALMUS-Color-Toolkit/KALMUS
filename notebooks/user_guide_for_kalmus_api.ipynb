{
 "cells": [
  {
   "cell_type": "markdown",
   "metadata": {},
   "source": [
    "# Welcome to the Interactive User Guide for KALMUS (API)!\n",
    "\n",
    "In this notebook, I will introduce:  \n",
    "1. **Installation of KALMUS package**\n",
    "2. **What is KALMUS for**\n",
    "    - Extract color information from film frames or brightness information from monochrome film frames using different color metrics and image sampling methods.   \n",
    "    - Generate a barcode representation of the color/brightness information of a film. 3D information in 2D representation. \n",
    "    - Compare different barcodes globally through similarity measures on images. Interpret the difference through similarity scores.\n",
    "    - Compare segments of barcodes locally using functions embedded in GUI. Interpret the difference with domain knowledge and contextual information extracted by KALMUS.  \n",
    "3. **How to interact with KALMUS using its Application programming interface**\n",
    "    - Visualize barcodes\n",
    "    - Generate barcodes\n",
    "    - Change barcodes\n",
    "    - Save barcodes\n",
    "    - Load barcodes\n",
    "    - Compare barcodes"
   ]
  },
  {
   "cell_type": "markdown",
   "metadata": {},
   "source": [
    "## 1. Installation\n",
    "There are two ways that you could install KALMUS on you local machine:  \n",
    "1. (**Recommended**) Get the latest distribution of KALMUS from PyPI ([KALMUS Project Page on PyPI](https://pypi.org/project/kalmus/)).  \n",
    "Use command `$ pip install kalmus` or `$ pip install --upgrade kalmus` (if kalmus has been installed) to install the latest version of KALMUS package. All dependencies should be automatically installed during this process.\n",
    "\n",
    "2. Alternatively, you could install the KALMUS locally by first cloning the GitHub repo of Kalmus ([GitHub page](https://github.com/KALMUS-Color-Toolkit/KALMUS)). Then, move to the top directory of cloned KALMUS project and install using command `pip install .`. \n",
    "\n",
    "**See our [Installation Guide](https://kalmus-color-toolkit.github.io/KALMUS/install.html) for more details.**\n",
    "\n",
    "Once the package is installed, you could verify the version of KALMUS package using command `$ pip show kalmus`  \n",
    "<img src=\"notebook_figures/kalmus_version.png\" alt=\"drawing\" width=\"800 px\"/>"
   ]
  },
  {
   "cell_type": "markdown",
   "metadata": {},
   "source": [
    "In the version 1.3.7 or above, you could also verify the version of KALMUS through the module's `__version__` attribute."
   ]
  },
  {
   "cell_type": "code",
   "execution_count": null,
   "metadata": {},
   "outputs": [],
   "source": [
    "# Uncommented the code below, only if your installed KALMUS version >= 1.3.7\n",
    "# import kalmus\n",
    "# print(kalmus.__version__)"
   ]
  },
  {
   "cell_type": "markdown",
   "metadata": {},
   "source": [
    "## 2. What is KALMUS for?\n",
    "KALMUS is a Python package for the computational analysis of colors in films. It addresses how to best describe a film's color. This package is optimized for two purposes: **(1) various ways to measure, calculate and compare a film's color and (2) various ways to visualize a film's color.**\n",
    "\n",
    "KALMUS utilizes the movie barcode as a visualization of the film's color. It has a modularized pipeline for the generation of barcodes using different measures of color and region of interest in each film frame. It also provides a set of measures that allow users to compare different films' color directly through this visualization.\n",
    "\n",
    "### 2.1 Barcode Generation\n",
    "\n",
    "Barcode supports __7 color metrics__ that measure the color of a frame and __5 frame types__ that specify which part of the frame will be used in the color measures.\n",
    "\n",
    "Below is a table of available combinations of color metric and frame type in barcode generation.  \n",
    "\n",
    "| frame_type \\ color_metric | Average | Median |  Mode  | Top-dominant | Weighted-dominant | Brightest | Bright |\n",
    "| --------------------------| :-----: | :----: | :----: | :----------: | :---------------: | :-------: | :----: |\n",
    "| **Whole_frame**               | &#9745; |   &#9745;  |  &#9745; |      &#9745;     |        &#9745;    |    &#9745;    |   &#9745;   |\n",
    "| **High_contrast_region**      | &#9745; |   &#9745;  |  &#9745; |      &#9745;     |      &#9745;      |    &#9745;    |   &#x2612;  |\n",
    "| **Low_contrast_region**       | &#9745; |   &#9745;  |  &#9745; |      &#9745;     |      &#9745;      |    &#9745;    |   &#x2612;  |\n",
    "| **Foreground**                | &#9745; |   &#9745;  |  &#9745; |      &#9745;     |      &#9745;      |    &#9745;    |   &#x2612;  |\n",
    "| **Background**                | &#9745; |   &#9745;  |  &#9745; |      &#9745;     |      &#9745;      |    &#9745;    |   &#x2612;  |\n",
    "\n",
    "### 2.2 Examples of color of frame using a selected color metric and frame type.\n",
    "\n",
    "Here, we show some example frames with their color extracted using the selected color metric and frame type\n",
    "\n",
    "In the figures below,  \n",
    "- On the left of each figure, we show the original frame (with letterboxing if applicable).\n",
    "- On the right of each figure, we show the extracted region using selected frame type with __color of extracted region on the rightmost__.\n",
    "\n",
    "**Casino Royale (2006) using Average Color with Whole frame or only Region with High (brightness) contrast**\n",
    "\n",
    "![casino_whole_avg](notebook_figures/casino_2_whole_average.png)  \n",
    "\n",
    "![casino_high_avg](notebook_figures/casino_2_high_average.png)\n",
    "\n",
    "---\n",
    "\n",
    "**Casino Royale (2006) using Average Color with Whole frame or only Foreground of frame**\n",
    "\n",
    "![casino_2_whole_avg](notebook_figures/casino_1_whole_average.png)\n",
    "\n",
    "![casino_2_fore_avg](notebook_figures/casino_1_fore_average.png)\n",
    "\n",
    "---\n",
    "\n",
    "**Incredibles (2004) using Whole frame with Mode color, Top-dominant color, or Brightest color**\n",
    "\n",
    "![incre_whole_avg](notebook_figures/incredible_1_whole_mode.png)\n",
    "\n",
    "![incre_whole_top](notebook_figures/incredible_1_whole_dominant.png)\n",
    "\n",
    "![incre_whole_bri](notebook_figures/incredible_1_whole_brightest.png)\n",
    "\n",
    "---\n",
    "\n",
    "**Mission: Impossible (1996) using Whole frame and Foregound with Mode or Average color**\n",
    "\n",
    "![mission_whole_mode](notebook_figures/mission_1_whole_mode.png)\n",
    "\n",
    "![mission_fore_avg](notebook_figures/mission_1_fore_avg.png)\n",
    "\n",
    "![mission_fore_mode](notebook_figures/mission_1_fore_mode.png)\n",
    "\n",
    "---\n",
    "\n",
    "**I, Robot (2004) using Median color with Whole, Foreground, or Background of frame**\n",
    "\n",
    "![robot_whole_med](notebook_figures/robot_1_whole_median.png)\n",
    "\n",
    "![robot_fore_med](notebook_figures/robot_1_fore_median.png)\n",
    "\n",
    "![robot_back_med](notebook_figures/robot_1_back_median.png)"
   ]
  },
  {
   "cell_type": "markdown",
   "metadata": {},
   "source": [
    "### 2.3 Feel free to explore more......\n",
    "\n",
    "We **highly encourage** you to explore more on how the color of a frame/image changes when using different __color metrics__ and __regions of interest__. You are welcome to test on your own images and get the visualization use the code cells below!"
   ]
  },
  {
   "cell_type": "code",
   "execution_count": null,
   "metadata": {},
   "outputs": [],
   "source": [
    "# Uncommented the magic function below, only if you have installed the ipympl extension\n",
    "# You can install ipympl by following the instruction in ipympl GitHub repository's README.md \n",
    "# https://github.com/matplotlib/ipympl\n",
    "\n",
    "# %matplotlib widget\n",
    "\n",
    "from notebook_utils import show_image_with_color\n",
    "import matplotlib.pyplot as plt"
   ]
  },
  {
   "cell_type": "code",
   "execution_count": null,
   "metadata": {},
   "outputs": [],
   "source": [
    "# You can change to any image/film frame you like\n",
    "image = plt.imread(\"notebook_example_data/i_robot_2.jpg\")\n",
    "\n",
    "# Specify the type of frame\n",
    "frame_type = \"Whole_frame\"\n",
    "\n",
    "# Specify the color metric\n",
    "color_metric = \"Average\"\n",
    "\n",
    "# Specify the figure size (width, height)\n",
    "figsize=(9, 3)\n",
    "\n",
    "fig, ax = plt.subplots(1, 2, figsize=figsize)\n",
    "ax[0].imshow(image)\n",
    "ax[0].set_title(\"Original Frame\")\n",
    "ax[0].axis(\"off\")\n",
    "show_image_with_color(image, frame_type=frame_type, color_metric=color_metric, ax=ax[1], axis_off=True, add_separate_line=True, )\n",
    "\n",
    "plt.tight_layout()"
   ]
  },
  {
   "cell_type": "markdown",
   "metadata": {},
   "source": [
    "### 2.4 Examples of barcode generated from a whole film using selected color metric and frame type\n",
    "\n",
    "Below, we show two barcodes generated from a whole film (Mission: Impossible (2006)) using two different frame types.\n",
    "\n",
    "**Barcode generated using Average color and Whole_frame of each frame**\n",
    "![whole_barcode](notebook_figures/mission_barcode_whole_frame_avg.png)\n",
    "\n",
    "**Barcode generated using Average color but only Foreground of each frame**\n",
    "![fore_barcode](notebook_figures/mission_barcode_Foreground_avg.png)\n",
    "\n",
    "**Availbale options for comparing different barcode visualization**\n",
    "\n",
    "We provide a set of six comparison metric for users to assess the similarity between two barcodes.\n",
    "\n",
    "| Comparison metric | Range |  Tag  |\n",
    "| :---------------- | ----: | :---: |\n",
    "| Normalized root mean square error | 0 least similar, 1 most similar | Image Similarity |\n",
    "| Structural similarity index | 0 least similar, 1 most similar | Image Similarity |\n",
    "| Cross correlation | -1 anti-similar, 1 most similar | Signal Correlation |\n",
    "| Local cross correlation | -1 anti-similar, 1 most similar | Signal Correlation |\n",
    "| Needleman--Wunsch | 0 least similar, 1 most similar | Sequence Matching |\n",
    "| Smith--Waterman | 0 least similar, 1 most similar | Sequence Matching |\n",
    "\n",
    "For more detaile, please see our paper [KALMUS: tools for color analysis of films](../paper/joss-paper.md)\n",
    "\n",
    "## Get Started..."
   ]
  },
  {
   "cell_type": "markdown",
   "metadata": {},
   "source": [
    "KALMUS has a **low-level API**, high-level command line interface, and Graphic user interface for audience from all backgrounds to take advantage of its functionality. \n",
    "\n",
    "In this notebook Guide, we will focus on the **Application programming interface** of KALMUS."
   ]
  },
  {
   "cell_type": "markdown",
   "metadata": {},
   "source": [
    "## 3. How to interact with KALMUS through Application programming interface"
   ]
  },
  {
   "cell_type": "markdown",
   "metadata": {},
   "source": [
    "We will use the BarcodeGenerator class, artist utility, visualization utility, and measures utility in the following demo:\n",
    "\n",
    "```python\n",
    "from kalmus.barcodes.BarcodeGenerator import BarcodeGenerator\n",
    "import kalmus.utils.artist as artist\n",
    "import kalmus.utils.measure_utils as measures\n",
    "import kalmus.utils.visualization_utils as vis\n",
    "import matplotlib.pylab as plt\n",
    "```\n",
    "\n",
    "Notice that we will also use the matplotlib.pyplot module for some visualizations. This package should have been automatically installed if you have installed the KALMUS package."
   ]
  },
  {
   "cell_type": "markdown",
   "metadata": {},
   "source": [
    "### 3.1 Import modules"
   ]
  },
  {
   "cell_type": "code",
   "execution_count": null,
   "metadata": {},
   "outputs": [],
   "source": [
    "from kalmus.barcodes.BarcodeGenerator import BarcodeGenerator, color_metrics, frame_types, barcode_types\n",
    "import kalmus.utils.artist as artist\n",
    "import kalmus.utils.measure_utils as measures\n",
    "import kalmus.utils.visualization_utils as vis\n",
    "import matplotlib.pylab as plt"
   ]
  },
  {
   "cell_type": "code",
   "execution_count": null,
   "metadata": {},
   "outputs": [],
   "source": [
    "print(\"List of available color_metrics: {:s}\".format(str(color_metrics)))\n",
    "print(\"List of available frame_types: {:s}\".format(str(frame_types)))\n",
    "print(\"List of available barcode_types: {:s}\".format(str(barcode_types)))"
   ]
  },
  {
   "cell_type": "markdown",
   "metadata": {},
   "source": [
    "Notice that the `color_metric = \"Bright\"` is only available for `frame_types = \"Whole_frame\"`"
   ]
  },
  {
   "cell_type": "markdown",
   "metadata": {},
   "source": [
    "### 3.2 Instantiate the BarcodeGenerator Object"
   ]
  },
  {
   "cell_type": "code",
   "execution_count": null,
   "metadata": {},
   "outputs": [],
   "source": [
    "# Specify which color metric you will use to generate the barcode\n",
    "color_metric = \"Average\" \n",
    "# Specify which type of frame you will use to generate the barcode\n",
    "frame_type = \"Whole_frame\"\n",
    "# Specify the type of barcode\n",
    "barcode_type = \"Color\"\n",
    "# Specify how many frames will be skipped at the start\n",
    "start_at_frame = 10\n",
    "# Specify the sampled frame rate\n",
    "sampled_rate = 1\n",
    "# Specify the total number of frames that you wanto include in the barcode\n",
    "total_frames = 180\n",
    "# Due to copyright concern, we only include a roughly 10-second clip of I, Robot (2004) in the example data for this demonstration\n",
    "# You are welcome to replace it with any other media files available to you\n",
    "\n",
    "generator = BarcodeGenerator(color_metric=color_metric, frame_type=frame_type, barcode_type=barcode_type,\n",
    "                             skip_over=start_at_frame, sampled_frame_rate=sampled_rate, total_frames=total_frames)"
   ]
  },
  {
   "cell_type": "markdown",
   "metadata": {},
   "source": [
    "---\n",
    "\n",
    "The attributes: \n",
    "```python\n",
    "generator.barcode_type\n",
    "generator.skip_over # start_at_frame\n",
    "generator.sampled_frame_rate\n",
    "generator.total_frames\n",
    "```\n",
    "\n",
    "are **safe to change** after the generator is instantiated.\n",
    "\n",
    "We don't recommend you to change the `generator.color_metric` and `generator.frame_type`, only if you are sure that the new combination of color_metric and frame_type is valid (see table in section 2.1 above for valid combinations)."
   ]
  },
  {
   "cell_type": "markdown",
   "metadata": {},
   "source": [
    "### 3.3 Specify the parameters for barcode generation"
   ]
  },
  {
   "cell_type": "code",
   "execution_count": null,
   "metadata": {},
   "outputs": [],
   "source": [
    "# The path to the video file\n",
    "video_file_path = \"notebook_example_data/i_robot_video.mp4\"\n",
    "# Number of threads used in generation\n",
    "num_threads = 2\n",
    "# Whether save the frames or not during the generation\n",
    "save_frames = True\n",
    "# What is the save rate for frames (every 1 seconds in this case)\n",
    "save_frames_rate = 1"
   ]
  },
  {
   "cell_type": "markdown",
   "metadata": {},
   "source": [
    "### 3.4 Start the generation process"
   ]
  },
  {
   "cell_type": "code",
   "execution_count": null,
   "metadata": {},
   "outputs": [],
   "source": [
    "generator.generate_barcode(video_file_path=video_file_path, num_thread=num_threads, \n",
    "                           save_frames=save_frames, save_frames_rate=save_frames_rate)"
   ]
  },
  {
   "cell_type": "markdown",
   "metadata": {},
   "source": [
    "### 3.5 Get the generated barcode"
   ]
  },
  {
   "cell_type": "code",
   "execution_count": null,
   "metadata": {},
   "outputs": [],
   "source": [
    "barcode_obj = generator.get_barcode()\n",
    "barcode_obj"
   ]
  },
  {
   "cell_type": "markdown",
   "metadata": {},
   "source": [
    "### 3.6 Let's see what are in the Barcode\n",
    "\n",
    "Every generated barcode will have a numpy array of colors (or brightness depending on the type of Barcode), and 2-dimensional barcode image."
   ]
  },
  {
   "cell_type": "code",
   "execution_count": null,
   "metadata": {},
   "outputs": [],
   "source": [
    "print(\"Total frames included in this barcode: {:d}\".format(barcode_obj.total_frames))\n",
    "print(\"Which frame did we start: frame {:d}\".format(barcode_obj.skip_over))\n",
    "print(\"What is the sampled rate of this barcode: {:d}\".format(barcode_obj.sampled_frame_rate))\n",
    "display(barcode_obj.colors.shape)\n",
    "print(\"Total length of the input video: {:d} frames\".format(barcode_obj.film_length_in_frames))\n",
    "print(\"What is the current shape of barcode image: {:s}\".format(str(barcode_obj.get_barcode().shape)))"
   ]
  },
  {
   "cell_type": "markdown",
   "metadata": {},
   "source": [
    "Notice that the current shape of barcode image is (160, 1, 3) which is an image with only one column of pixels.  \n",
    "This is not good for visualization. We need to reshape it before we plot the barcode image."
   ]
  },
  {
   "cell_type": "code",
   "execution_count": null,
   "metadata": {},
   "outputs": [],
   "source": [
    "# Reshape barcode so it has 10 frames==pixels per column\n",
    "barcode_obj.reshape_barcode(frames_per_column=10)\n",
    "print(barcode_obj.get_barcode().shape)"
   ]
  },
  {
   "cell_type": "markdown",
   "metadata": {},
   "source": [
    "### 3.7 Now let's visualize the barcode image"
   ]
  },
  {
   "cell_type": "code",
   "execution_count": null,
   "metadata": {},
   "outputs": [],
   "source": [
    "fig, ax = plt.subplots(1, 1, figsize=(6, 4))\n",
    "ax.imshow(barcode_obj.get_barcode())\n",
    "\n",
    "plt.show()"
   ]
  },
  {
   "cell_type": "markdown",
   "metadata": {},
   "source": [
    "Remember that we also saved the frames during the generation, we can check them against the barcode to see if the colors on the barcode image really make sense."
   ]
  },
  {
   "cell_type": "code",
   "execution_count": null,
   "metadata": {},
   "outputs": [],
   "source": [
    "fig, ax = plt.subplots(1, 5, figsize=(15, 3))\n",
    "for i in range(len(ax)):\n",
    "    ax[i].imshow(barcode_obj.saved_frames[i])\n",
    "    ax[i].axis(\"off\")\n",
    "plt.tight_layout()\n",
    "plt.show()"
   ]
  },
  {
   "cell_type": "markdown",
   "metadata": {},
   "source": [
    "### 3.8 Okay, let's get back on step 3.3 again and change some parameters"
   ]
  },
  {
   "cell_type": "markdown",
   "metadata": {},
   "source": [
    "Notice that this film clip actually has a **black letterbox**, but the generator remove the letterbox **automatically** during the generation. Thus, we did not see the letterbox around the saved frames above.\n",
    "\n",
    "We highly recommend the users to let generator find and remove letterboxing. However, users still have the choice to defined the letterbox area by themselves.\n",
    "\n",
    "For example, let's say we still want to use the **original frame with letterboxing**. original frame shape == (720, 1280, 3) == (hight, width, channels)"
   ]
  },
  {
   "cell_type": "code",
   "execution_count": null,
   "metadata": {},
   "outputs": [],
   "source": [
    "# The path to the video file\n",
    "video_file_path = \"notebook_example_data/i_robot_video.mp4\"\n",
    "# Number of threads used in generation\n",
    "num_threads = 2\n",
    "# Whether save the frames or not during the generation\n",
    "save_frames = True\n",
    "# What is the save rate for frames (every 1 seconds in this case)\n",
    "save_frames_rate = 1\n",
    "# Allow user defined letterbox\n",
    "user_defined_letterbox = True\n",
    "# Lower (larger row index) vertical bound for non-letterboxing area (main frame)\n",
    "low_ver = 720\n",
    "# Right (larger col index) horizontal bound for non-letterboxing area (main frame)\n",
    "right_hor = 1280\n",
    "# Higher (smaller row index) vertical bound for non-letterboxing area (main frame)\n",
    "high_ver = 0\n",
    "# left (smaller col index) horizontal bound for non-letterboxing area (main frame)\n",
    "left_hor = 0"
   ]
  },
  {
   "cell_type": "markdown",
   "metadata": {},
   "source": [
    "### 3.9 Let's generate the new barcode with new set of parameters\n",
    "Notice that the previously generated barcode object stored in generator object will be **overwritten**."
   ]
  },
  {
   "cell_type": "code",
   "execution_count": null,
   "metadata": {},
   "outputs": [],
   "source": [
    "generator.generate_barcode(video_file_path=video_file_path, num_thread=num_threads, \n",
    "                           save_frames=save_frames, save_frames_rate=save_frames_rate,\n",
    "                           user_defined_letterbox=user_defined_letterbox, low_ver=low_ver,\n",
    "                           high_ver=high_ver, right_hor=right_hor, left_hor=left_hor)"
   ]
  },
  {
   "cell_type": "code",
   "execution_count": null,
   "metadata": {},
   "outputs": [],
   "source": [
    "barcode_obj_2 = generator.get_barcode()\n",
    "barcode_obj_2.reshape_barcode(frames_per_column=10)"
   ]
  },
  {
   "cell_type": "markdown",
   "metadata": {},
   "source": [
    "### 3.10 Let's compare the barcodes use frame with or without letterboxing"
   ]
  },
  {
   "cell_type": "code",
   "execution_count": null,
   "metadata": {},
   "outputs": [],
   "source": [
    "fig, ax = plt.subplots(1, 2, figsize=(10, 4))\n",
    "ax[0].set_title(\"Remove letterboxing\")\n",
    "ax[0].imshow(barcode_obj.get_barcode())\n",
    "\n",
    "ax[1].set_title(\"Keep letterboxing\")\n",
    "ax[1].imshow(barcode_obj_2.get_barcode())\n",
    "\n",
    "plt.tight_layout()\n",
    "plt.show()"
   ]
  },
  {
   "cell_type": "markdown",
   "metadata": {},
   "source": [
    "You may have noticed that the barcode generated using original frame is darker than the barcode using removed letterboxing frame."
   ]
  },
  {
   "cell_type": "markdown",
   "metadata": {},
   "source": [
    "### 3.11 But it maybe hard to tell the difference in details using only the visualization\n",
    "\n",
    "KALMUS also provides a measure utility for you to compare two barcode image using a set of six comparison metrics and get numeric results for similarity.\n",
    "\n",
    "For the details about the six comparison metrics, see section 2.4 above."
   ]
  },
  {
   "cell_type": "code",
   "execution_count": null,
   "metadata": {},
   "outputs": [],
   "source": [
    "print(\"Normalzied Root Mean Squared Error Similarity: {:.3f}\"\n",
    "      .format(measures.nrmse_similarity(barcode_obj.get_barcode(), barcode_obj_2.get_barcode())))\n",
    "print(\"Strutctual Similarity: {:.3f}\"\n",
    "      .format(measures.ssim_similarity(barcode_obj.get_barcode(), barcode_obj_2.get_barcode())))"
   ]
  },
  {
   "cell_type": "markdown",
   "metadata": {},
   "source": [
    "There are more options available for comparing barcodes, we actually encourage you to store these generated barcodes as __JSON objects__ and reload them back to the KALMUS GUI, where you can check the simiarlity scores directly from the Statistics window."
   ]
  },
  {
   "cell_type": "markdown",
   "metadata": {},
   "source": [
    "### 3.12 Great! Then, how can I store the barcode objects as JSON object?\n",
    "Very easy, there is a method built in all Barcode classes that allow you to store the barcode object into a JSON object file"
   ]
  },
  {
   "cell_type": "code",
   "execution_count": null,
   "metadata": {},
   "outputs": [],
   "source": [
    "import os\n",
    "\n",
    "barcode_obj.save_as_json(filename=None)\n",
    "\n",
    "os.path.exists(\"saved_Color_barcode_Whole_frame_Average.json\")"
   ]
  },
  {
   "cell_type": "markdown",
   "metadata": {},
   "source": [
    "Notice that you could specify the saved filename/path (highly recommended), but a default file name `\"saved_{barcode_type}_barcode_{frame_type}_{color_metric}.json\"` will be used if the filename is not given."
   ]
  },
  {
   "cell_type": "markdown",
   "metadata": {},
   "source": [
    "### 3.13 Let's check the barcode that we just saved\n",
    "\n",
    "Just to make sure every thing is in there!"
   ]
  },
  {
   "cell_type": "code",
   "execution_count": null,
   "metadata": {},
   "outputs": [],
   "source": [
    "generator.generate_barcode_from_json(json_file_path=\"saved_Color_barcode_Whole_frame_Average.json\",\n",
    "                                     barcode_type=\"Color\")\n",
    "\n",
    "barcode_from_json = generator.get_barcode()"
   ]
  },
  {
   "cell_type": "markdown",
   "metadata": {},
   "source": [
    "Notice that in KALMUS 1.3.7 and backward you still need the type of barcode stored in the JSON object (either Color or Brightness).  \n",
    "We are trying to simplify this in the future version."
   ]
  },
  {
   "cell_type": "markdown",
   "metadata": {},
   "source": [
    "### 3.14 What you see here should be the same as that in section 3.6"
   ]
  },
  {
   "cell_type": "code",
   "execution_count": null,
   "metadata": {},
   "outputs": [],
   "source": [
    "print(\"Total frames included in this barcode: {:d}\".format(barcode_from_json.total_frames))\n",
    "print(\"Which frame did we start: frame {:d}\".format(barcode_from_json.skip_over))\n",
    "print(\"What is the sampled rate of this barcode: {:d}\".format(barcode_from_json.sampled_frame_rate))\n",
    "display(barcode_from_json.colors.shape)\n",
    "print(\"Total length of the input video: {:d} frames\".format(barcode_from_json.film_length_in_frames))\n",
    "print(\"What is the current shape of barcode image: {:s}\".format(str(barcode_from_json.get_barcode().shape)))"
   ]
  },
  {
   "cell_type": "code",
   "execution_count": null,
   "metadata": {},
   "outputs": [],
   "source": [
    "fig, ax = plt.subplots(1, 1, figsize=(6, 4))\n",
    "ax.imshow(barcode_from_json.get_barcode())\n",
    "\n",
    "plt.show()"
   ]
  },
  {
   "cell_type": "markdown",
   "metadata": {},
   "source": [
    "### 3.15 The saved frames are also dumped into the JSON object!\n",
    "\n",
    "**Just a warning:** since the image files are huge, if you want your barcodes to be more portable (smaller size), you may wish to not use the saved_frame options or set the saved frame rate to be low."
   ]
  },
  {
   "cell_type": "code",
   "execution_count": null,
   "metadata": {},
   "outputs": [],
   "source": [
    "fig, ax = plt.subplots(1, 5, figsize=(15, 3))\n",
    "for i in range(len(ax)):\n",
    "    ax[i].imshow(barcode_from_json.saved_frames[i])\n",
    "    ax[i].axis(\"off\")\n",
    "plt.tight_layout()\n",
    "plt.show()"
   ]
  },
  {
   "cell_type": "markdown",
   "metadata": {},
   "source": [
    "### 3.16 Okay, let's load a much larger precomputed ColorBarcode object\n",
    "\n",
    "This color barcode is collect on the whole I, robot (2004) film using **Median Color** with **Whole_frame**"
   ]
  },
  {
   "cell_type": "code",
   "execution_count": null,
   "metadata": {},
   "outputs": [],
   "source": [
    "generator.generate_barcode_from_json(\"notebook_example_data/i_robot_Median_Whole_frame_Color.json\", barcode_type=\"Color\")\n",
    "barcode_obj_vis = generator.get_barcode()\n",
    "barcode_obj_vis.meta_data"
   ]
  },
  {
   "cell_type": "code",
   "execution_count": null,
   "metadata": {},
   "outputs": [],
   "source": [
    "plt.figure(figsize=(8, 3))\n",
    "plt.imshow(barcode_obj_vis.get_barcode())\n",
    "\n",
    "plt.tight_layout()\n",
    "plt.show()"
   ]
  },
  {
   "cell_type": "markdown",
   "metadata": {},
   "source": [
    "### 3.17 Color Cube Visualization\n",
    "\n",
    "For a Color barcode collecting on a whole film, it may be also interesting to see how its color distributed in the RGB cube. kalmus.utils.visualization_utils provides a handy tool for doing this.\n",
    "\n",
    "**Notice:** we highly recommend you to install the ipympl extension to make the 3D plot more interactive in Jupyter Lab. You can install ipympl by following the instruction in ipympl GitHub repository's [README.md](https://github.com/matplotlib/ipympl).\n",
    "\n",
    "To activate ipympl extension in Jupyter Lab, use the magic function **%matplotlib widget**"
   ]
  },
  {
   "cell_type": "code",
   "execution_count": null,
   "metadata": {},
   "outputs": [],
   "source": [
    "# Uncommented the line below if you have installed the ipympl extension for JupyterLab\n",
    "# %matplotlib widget\n",
    "\n",
    "# Feel free to adjust the sampling\n",
    "num_sampled_data = 6000\n",
    "vis.show_colors_in_cube(barcode_obj_vis.colors, sampling=num_sampled_data)"
   ]
  },
  {
   "cell_type": "markdown",
   "metadata": {},
   "source": [
    "## 4. Thank you!\n",
    "\n",
    "Congraluations! You have just finished the tutorial on KALMUS API. \n",
    "\n",
    "If you have any problems in running this notebook, please check the README.md file in this folder for trouble shooting. If you find any errors in the instructions, please feel free to email the notebook author, Yida Chen, <yc015@bucknell.edu>"
   ]
  },
  {
   "cell_type": "markdown",
   "metadata": {},
   "source": []
  }
 ],
 "metadata": {
  "kernelspec": {
   "display_name": "Python 3",
   "language": "python",
   "name": "python3"
  },
  "language_info": {
   "codemirror_mode": {
    "name": "ipython",
    "version": 3
   },
   "file_extension": ".py",
   "mimetype": "text/x-python",
   "name": "python",
   "nbconvert_exporter": "python",
   "pygments_lexer": "ipython3",
   "version": "3.7.0"
  }
 },
 "nbformat": 4,
 "nbformat_minor": 4
}
