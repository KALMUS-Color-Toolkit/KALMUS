{
 "cells": [
  {
   "cell_type": "markdown",
   "metadata": {},
   "source": [
    "# Welcome to the Interactive User Guide for KALMUS (GUI)!\n",
    "\n",
    "In this notebook, I will introduce:  \n",
    "1. **Installation of KALMUS package**\n",
    "2. **What is KALMUS for**\n",
    "    - Extract color information from film frames or brightness information from monochrome film frames using different color metrics and image sampling methods.   \n",
    "    - Generate a barcode representation of the color/brightness information of a film. 3D information in 2D representation. \n",
    "    - Compare different barcodes globally through similarity measures on images. Interpret the difference through similarity scores.\n",
    "    - Compare segments of barcodes locally using functions embedded in GUI. Interpret the difference with domain knowledge and contextual information extracted by KALMUS.  \n",
    "3. **How to interact with KALMUS using its Graphic user interface**\n",
    "    - Visualize barcodes\n",
    "    - Generate barcodes\n",
    "    - Change barcodes\n",
    "    - Save barcodes\n",
    "    - Load barcodes\n",
    "    - Compare barcodes"
   ]
  },
  {
   "cell_type": "markdown",
   "metadata": {},
   "source": [
    "## 1. Installation\n",
    "There are two ways that you could install KALMUS on you local machine:  \n",
    "1. (**Recommended**) Get the latest distribution of KALMUS from PyPI ([KALMUS Project Page on PyPI](https://pypi.org/project/kalmus/)).  \n",
    "Use command `$ pip install kalmus` or `$ pip install --upgrade kalmus` (if kalmus has been installed) to install the latest version of KALMUS package. All dependencies should be automatically installed during this process.\n",
    "\n",
    "2. Alternatively, you could install the KALMUS locally by first cloning the GitHub repo of Kalmus ([GitHub page](https://github.com/KALMUS-Color-Toolkit/KALMUS)). Then, move to the top directory of cloned KALMUS project and install using command `pip install .`. \n",
    "\n",
    "**See our [Installation Guide](https://kalmus-color-toolkit.github.io/KALMUS/install.html) for more details.**\n",
    "\n",
    "Once the package is installed, you could verify the version of KALMUS package using command `$ pip show kalmus`  \n",
    "<img src=\"notebook_figures/kalmus_version.png\" alt=\"drawing\" width=\"800 px\"/>"
   ]
  },
  {
   "cell_type": "markdown",
   "metadata": {},
   "source": [
    "In the version 1.3.7 or above, you could also verify the version of KALMUS through the module's `__version__` attribute."
   ]
  },
  {
   "cell_type": "code",
   "execution_count": null,
   "metadata": {},
   "outputs": [],
   "source": [
    "# Uncommented the code below, only if your installed KALMUS version >= 1.3.7\n",
    "# import kalmus\n",
    "# print(kalmus.__version__)"
   ]
  },
  {
   "cell_type": "markdown",
   "metadata": {},
   "source": [
    "## 2. What is KALMUS for?\n",
    "KALMUS is a Python package for the computational analysis of colors in films. It addresses how to best describe a film's color. This package is optimized for two purposes: **(1) various ways to measure, calculate and compare a film's color and (2) various ways to visualize a film's color.**\n",
    "\n",
    "KALMUS utilizes the movie barcode as a visualization of the film's color. It has a modularized pipeline for the generation of barcodes using different measures of color and region of interest in each film frame. It also provides a set of measures that allow users to compare different films' color directly through this visualization.\n",
    "\n",
    "### 2.1 Barcode Generation\n",
    "\n",
    "Barcode supports __7 color metrics__ that measure the color of a frame and __5 frame types__ that specify which part of the frame will be used in the color measures.\n",
    "\n",
    "Below is a table of available combinations of color metric and frame type in barcode generation.  \n",
    "\n",
    "| frame_type \\ color_metric | Average | Median |  Mode  | Top-dominant | Weighted-dominant | Brightest | Bright |\n",
    "| --------------------------| :-----: | :----: | :----: | :----------: | :---------------: | :-------: | :----: |\n",
    "| **Whole_frame**               | &#9745; |   &#9745;  |  &#9745; |      &#9745;     |        &#9745;    |    &#9745;    |   &#9745;   |\n",
    "| **High_contrast_region**      | &#9745; |   &#9745;  |  &#9745; |      &#9745;     |      &#9745;      |    &#9745;    |   &#x2612;  |\n",
    "| **Low_contrast_region**       | &#9745; |   &#9745;  |  &#9745; |      &#9745;     |      &#9745;      |    &#9745;    |   &#x2612;  |\n",
    "| **Foreground**                | &#9745; |   &#9745;  |  &#9745; |      &#9745;     |      &#9745;      |    &#9745;    |   &#x2612;  |\n",
    "| **Background**                | &#9745; |   &#9745;  |  &#9745; |      &#9745;     |      &#9745;      |    &#9745;    |   &#x2612;  |\n",
    "\n",
    "### 2.2 Examples of color of frame using a selected color metric and frame type.\n",
    "\n",
    "Here, we show some example frames with their color extracted using the selected color metric and frame type\n",
    "\n",
    "In the figures below,  \n",
    "- On the left of each figure, we show the original frame (with letterboxing if applicable).\n",
    "- On the right of each figure, we show the extracted region using selected frame type with __color of extracted region on the rightmost__.\n",
    "\n",
    "**Casino Royale (2006) using Average Color with Whole frame or only Region with High (brightness) contrast**\n",
    "\n",
    "![casino_whole_avg](notebook_figures/casino_2_whole_average.png)  \n",
    "\n",
    "![casino_high_avg](notebook_figures/casino_2_high_average.png)\n",
    "\n",
    "---\n",
    "\n",
    "**Casino Royale (2006) using Average Color with Whole frame or only Foreground of frame**\n",
    "\n",
    "![casino_2_whole_avg](notebook_figures/casino_1_whole_average.png)\n",
    "\n",
    "![casino_2_fore_avg](notebook_figures/casino_1_fore_average.png)\n",
    "\n",
    "---\n",
    "\n",
    "**Incredibles (2004) using Whole frame with Mode color, Top-dominant color, or Brightest color**\n",
    "\n",
    "![incre_whole_avg](notebook_figures/incredible_1_whole_mode.png)\n",
    "\n",
    "![incre_whole_top](notebook_figures/incredible_1_whole_dominant.png)\n",
    "\n",
    "![incre_whole_bri](notebook_figures/incredible_1_whole_brightest.png)\n",
    "\n",
    "---\n",
    "\n",
    "**Mission: Impossible (1996) using Whole frame and Foregound with Mode or Average color**\n",
    "\n",
    "![mission_whole_mode](notebook_figures/mission_1_whole_mode.png)\n",
    "\n",
    "![mission_fore_avg](notebook_figures/mission_1_fore_avg.png)\n",
    "\n",
    "![mission_fore_mode](notebook_figures/mission_1_fore_mode.png)\n",
    "\n",
    "---\n",
    "\n",
    "**I, Robot (2004) using Median color with Whole, Foreground, or Background of frame**\n",
    "\n",
    "![robot_whole_med](notebook_figures/robot_1_whole_median.png)\n",
    "\n",
    "![robot_fore_med](notebook_figures/robot_1_fore_median.png)\n",
    "\n",
    "![robot_back_med](notebook_figures/robot_1_back_median.png)\n",
    "\n",
    "### 2.3 Examples of barcode generated from a whole film using selected color metric and frame type\n",
    "\n",
    "Below, we show two barcodes generated from a whole film (Mission: Impossible (2006)) using two different frame types.\n",
    "\n",
    "**Barcode generated using Average color and Whole_frame of each frame**\n",
    "![whole_barcode](notebook_figures/mission_barcode_whole_frame_avg.png)\n",
    "\n",
    "**Barcode generated using Average color but only Foreground of each frame**\n",
    "![fore_barcode](notebook_figures/mission_barcode_Foreground_avg.png)\n",
    "\n",
    "**Availbale options for comparing different barcode visualization**\n",
    "\n",
    "We provide a set of six comparison metric for users to assess the similarity between two barcodes.\n",
    "\n",
    "| Comparison metric | Range |  Tag  |\n",
    "| :---------------- | ----: | :---: |\n",
    "| Normalized root mean square error | 0 least similar, 1 most similar | Image Similarity |\n",
    "| Structural similarity index | 0 least similar, 1 most similar | Image Similarity |\n",
    "| Cross correlation | -1 anti-similar, 1 most similar | Signal Correlation |\n",
    "| Local cross correlation | -1 anti-similar, 1 most similar | Signal Correlation |\n",
    "| Needleman--Wunsch | 0 least similar, 1 most similar | Sequence Matching |\n",
    "| Smith--Waterman | 0 least similar, 1 most similar | Sequence Matching |\n",
    "\n",
    "For more detaile, please see our paper [KALMUS: tools for color analysis of films](../paper/joss-paper.md)\n",
    "\n",
    "## Get Started..."
   ]
  },
  {
   "cell_type": "markdown",
   "metadata": {},
   "source": [
    "KALMUS has a low-level API, high-level command line, and **Graphic user interface** for audience from all backgrounds to take advantage of its functionality. \n",
    "\n",
    "In this notebook Guide, we will focus on the **Graphic user interface** of KALMUS."
   ]
  },
  {
   "cell_type": "markdown",
   "metadata": {},
   "source": [
    "## 3. How to interact with KALMUS through Graphic User Interface"
   ]
  },
  {
   "cell_type": "markdown",
   "metadata": {},
   "source": [
    "If you have installed the KALMUS package on your machine with version 1.3.0 and onward, you can start the GUI using command:\n",
    "\n",
    "```\n",
    "    $ kalmus-gui\n",
    "```\n",
    "\n",
    "Alternatively, you could import the main function of command line GUI from kalmus.command_line_gui module."
   ]
  },
  {
   "cell_type": "code",
   "execution_count": null,
   "metadata": {},
   "outputs": [],
   "source": [
    "from kalmus.command_line_gui import main"
   ]
  },
  {
   "cell_type": "code",
   "execution_count": null,
   "metadata": {},
   "outputs": [],
   "source": [
    "main();"
   ]
  },
  {
   "cell_type": "markdown",
   "metadata": {},
   "source": [
    "### 3.1 Main window of KALMUS\n",
    "\n",
    "![kalmus_gui](notebook_figures/kalmus_gui_main_display.png)\n",
    "\n",
    "- (1) The display 1 of Barcode (barcode image of Barcode Object)\n",
    "- (2) The display 2 of Barcode (barcode image of Barcode Object)\n",
    "- (3) A histogram plot of the [hue](https://en.wikipedia.org/wiki/HSL_and_HSV) (0 - 360 degree on color wheel) distribution of the Barcode image in display 1.\n",
    "- (4) A histogram plot of the [hue](https://en.wikipedia.org/wiki/HSL_and_HSV) distribution of the Barcode image in display 2.\n",
    "- (5) Matplotlib's [interative navigation toolbar](https://matplotlib.org/3.2.2/users/navigation_toolbar.html). Notice that we wish the users to use the **Save Image** button on the left instead of save button on the tool bar if they only want to save the barcode image (not the whole figure)."
   ]
  },
  {
   "cell_type": "markdown",
   "metadata": {},
   "source": [
    "The **display (1)** and **display(2)** are clickable plot.\n",
    "\n",
    "- You can click on any point of the barcode image to get the RGB (Brightness for Brightness barcode) values, (x, y) position, frame index, and time of video at that point.\n",
    "- You can also check the frames around that point **if you saved the frames** during the barcode generation (see section 3.2 (10) for how to save frames during the generation)\n",
    "\n",
    "![clickable_plot](notebook_figures/kalmus_gui_main_2.png)"
   ]
  },
  {
   "cell_type": "markdown",
   "metadata": {},
   "source": [
    "---\n",
    "\n",
    "![main_2](notebook_figures/kalmus_gui_main_buttons.png)"
   ]
  },
  {
   "cell_type": "markdown",
   "metadata": {},
   "source": [
    "### 3.2 (6) Generate Barcode Window\n",
    "\n",
    "![gene](notebook_figures/kalmus_gui_generate_barcode.png)"
   ]
  },
  {
   "cell_type": "markdown",
   "metadata": {},
   "source": [
    "- (1) Barcode Color/Brightness metric\n",
    "- (2) Barcode Frame type\n",
    "- (3) Barcode type (Color or Brightness)\n",
    "- (4) Start collecting colors from frame at **Start at** (type: int) (**Optional**: No specified or specify start==0, no frames will be skipped)\n",
    "- (5) Frame sampled rate: Collect color from one frame every **sampled rate** frame (type: int)\n",
    "- (6) How many frames included in the generated barcode (type: int) (**Optional**: No specified or specify end. Collect color/brightness till the end of input video)\n",
    "- (7) Alternatively, you could use the more intuitive time unit."
   ]
  },
  {
   "cell_type": "markdown",
   "metadata": {},
   "source": [
    "![gene2](notebook_figures/kalmus_gui_generate_barcode_2.png)"
   ]
  },
  {
   "cell_type": "markdown",
   "metadata": {},
   "source": [
    "- (time unit) (4) Start at minutes:seconds of input video (minutes and seconds are all type: int) (**Optional**: No specified or specify start==0, no frames will be skipped)\n",
    "- (time unit) (5) Period in seconds for one sampled frame (type: float)\n",
    "- (time unit) (6) End at minutes:seconds of input video (minutes and seconds are all type: int) (**Optional**: No specified or specify end. Collect color/brightness till the end of input video)\n",
    "- (8) The path to the input video. Users may use the Browse button to locate the media file directly.\n",
    "- (9) Whether automatically detect the letterbox and remove. Recommend use **Auto**, use manual only if you know the exact location (in pixels) of letterbox or the input video's letterboxing does not follow the convention (not black or in dark color).\n",
    "- (10) Whether saved frames during the generation, and save one frame in how many seconds (seconds type: float).\n",
    "- (11) Whether rescale the frames during the generation. Highly recommend to resize frame if you are using the frame type other than whole_frame or the input video is in high resolution.\n",
    "- (12) Whether multi-threading the generation process. Highly recommend if your processor supports the multi-threading.\n",
    "- (13) Start the generation of barcode"
   ]
  },
  {
   "cell_type": "markdown",
   "metadata": {},
   "source": [
    "![specify](notebook_figures/kalmus_gui_generate_barcode_3.png)\n",
    "\n",
    "- (14) Specify the meta information of input video. **Warning:** Specify the input video's meta information before you press the generate barcode button! Press Update Meta Info to save the entered entries."
   ]
  },
  {
   "cell_type": "markdown",
   "metadata": {},
   "source": [
    "### 3.3 (7) Load Json Barcode Window"
   ]
  },
  {
   "cell_type": "markdown",
   "metadata": {},
   "source": [
    "![load](notebook_figures/kalmus_gui_load_json.png)"
   ]
  },
  {
   "cell_type": "markdown",
   "metadata": {},
   "source": [
    "- Specify the file path to the .JSON Barcode (what is a JSON Barcode? check section 3.6 below)\n",
    "- Specify the type of barcode saved in JSON\n",
    "- Specify which barcode display on the Main window that you will load the barcode into\n",
    "- Press Load button to load the JSON barcode"
   ]
  },
  {
   "cell_type": "markdown",
   "metadata": {},
   "source": [
    "### 3.4 (8) Load Barcode from Memory Window"
   ]
  },
  {
   "cell_type": "markdown",
   "metadata": {},
   "source": [
    "![load_mem](notebook_figures/kalmus_gui_load_memory.png)"
   ]
  },
  {
   "cell_type": "markdown",
   "metadata": {},
   "source": [
    "- Every barcode generated from current running GUI or Loaded from JSON barcode will be stored on the memory\n",
    "- User can load them onto the main display by select the name of barcode on the list\n",
    "- Specify which display on the main window that new barcode will be loaded into\n",
    "- Press Load Selected Barcode button"
   ]
  },
  {
   "cell_type": "markdown",
   "metadata": {},
   "source": [
    "### 3.5 (9) Reshape Barcode Window\n",
    "\n",
    "![reshape](notebook_figures/kalmus_gui_reshape_barcode.png)"
   ]
  },
  {
   "cell_type": "markdown",
   "metadata": {},
   "source": [
    "**There are three options available for user to change the barcode on display**\n",
    "\n",
    "- Reshape how many frames==pixels in each column of frame (similar to numpy.ndarray.reshape)\n",
    "- Scale the barcode image by enlarging or shrinking the barcode image by a factor\n",
    "- Reize the barcode image to a specific size in pixels\n",
    "\n",
    "In the window:  \n",
    "- (1) Show the current spatial size of the selected barcode in main display (Barcode 1 in this case)\n",
    "- (2) Select which change option to use\n",
    "- (3) Select which Barcode to change\n",
    "- Press Process to change the Barcode using given option and parameters"
   ]
  },
  {
   "cell_type": "markdown",
   "metadata": {},
   "source": [
    "### 3.6 (10) Save JSON Barcode Window"
   ]
  },
  {
   "cell_type": "markdown",
   "metadata": {},
   "source": [
    "![save](notebook_figures/kalmus_gui_save_json.png)"
   ]
  },
  {
   "cell_type": "markdown",
   "metadata": {},
   "source": [
    "Similar to the load memory window\n",
    "- Select the barcode on memory (list) that you wish to save locally as a JSON file\n",
    "- Give the path to saved JSON file in JSON file path textbox\n",
    "- Press Save Barcode button\n",
    "\n",
    "The attributes of Barcode Object will be stored in a JSON file that can be used to rebuild the Barcode Object (in GUI, you simply reload the JSON barcode through Load JSON Window **section 3.3**)"
   ]
  },
  {
   "cell_type": "markdown",
   "metadata": {},
   "source": [
    "### 3.7 (11) Save Barcode Image Window\n",
    "\n",
    "![save](notebook_figures/kalmus_gui_save_image.png)"
   ]
  },
  {
   "cell_type": "markdown",
   "metadata": {},
   "source": [
    "- Selected which barcode on the main display that you wish to save locally as an image.\n",
    "- The Saved width and height are automatically filled with current width and height of barcodes. You could change to your desirable spatial size.\n",
    "- Specify the path to the saved image file in the Image file path textbox\n",
    "- Press Save Barcode button"
   ]
  },
  {
   "cell_type": "markdown",
   "metadata": {},
   "source": [
    "### 3.8 (12) Inspect Barcode Window"
   ]
  },
  {
   "cell_type": "markdown",
   "metadata": {},
   "source": [
    "![inspect](notebook_figures/kalmus_gui_inspect.png)\n",
    "\n",
    "You will first be asked which barcode on the main display that you wish to inspect in further details."
   ]
  },
  {
   "cell_type": "markdown",
   "metadata": {},
   "source": [
    "![inspect](notebook_figures/kalmus_gui_inspect_2.png)"
   ]
  },
  {
   "cell_type": "markdown",
   "metadata": {},
   "source": [
    "In the inspect window there are three options to explore\n",
    "\n",
    "- (1) Output the color/brightness data of Color/Brightness barcode into a csv file\n",
    "- (2) Show the histogram distribution of hue values of Color barcode or brightnes value of Brightness barcode (similar to those in the main display)\n",
    "- (3) (Only available for Color barcode) Show the distribution of RGB color of the Color barcode in RGB cube.\n",
    "\n",
    "![cube](notebook_figures/kalmus_gui_inspect_3.png)"
   ]
  },
  {
   "cell_type": "markdown",
   "metadata": {},
   "source": [
    "### 3.9 (13) Statistics Information Window\n",
    "\n",
    "![stats](notebook_figures/kalmus_gui_stats.png)\n",
    "\n",
    "The similarity comparison between the displayed barcodes using a set of six comparison metrics.\n",
    "\n",
    "**Warning:** The initiation of this window may take tens of seconds.\n",
    "\n",
    "For more references about these six comparison metrics, please check the section 2.3 above."
   ]
  },
  {
   "cell_type": "markdown",
   "metadata": {},
   "source": [
    "### 3.10 (14) Check Meta Information Window\n",
    "\n",
    "Similarly to the **Inspect Barcode Window**\n",
    "\n",
    "![inspect](notebook_figures/kalmus_gui_inspect.png)\n",
    "\n",
    "You will first be asked which barcode on the main display that you wish to check for meta information."
   ]
  },
  {
   "cell_type": "markdown",
   "metadata": {},
   "source": [
    "![meta](notebook_figures/kalmus_gui_check_meta.png)"
   ]
  },
  {
   "cell_type": "markdown",
   "metadata": {},
   "source": [
    "- A list of meta information will be showed here\n",
    "- To update the meta information, similarly to Specify Meta Info in the barcode generation, use the Update Meta Info button\n",
    "\n",
    "![specify](notebook_figures/kalmus_gui_generate_barcode_3.png)"
   ]
  },
  {
   "cell_type": "markdown",
   "metadata": {},
   "source": [
    "- Hit the Update Meta Info button in the Specify Meta Data window after you update the entries.\n",
    "- Hit Refresh in Check Barcode Meta Information Window to see the updates\n",
    "- To reflect the updates on the title of plots in the main display, find the barcode with updated meta information in the memory using Load Memory button and load updated barcode back to the main display."
   ]
  },
  {
   "cell_type": "markdown",
   "metadata": {},
   "source": [
    "### 3.11 (15) Quit"
   ]
  },
  {
   "cell_type": "markdown",
   "metadata": {},
   "source": [
    "Quit the KALMUS's GUI. **Be sure to saved all the barcodes you like before you quit the program, and make sure the Generate Barcode Window is closed before quiting**."
   ]
  },
  {
   "cell_type": "markdown",
   "metadata": {},
   "source": [
    "## 4. Thank you!\n",
    "\n",
    "Thank you so much for reading through this notebook! If you have any problems in running this notebook, please check the README.md file in this folder for trouble shooting. If you find any errors in the instructions, please feel free to email the notebook author, Yida Chen, <yc015@bucknell.edu>"
   ]
  },
  {
   "cell_type": "markdown",
   "metadata": {},
   "source": []
  }
 ],
 "metadata": {
  "kernelspec": {
   "display_name": "Python 3",
   "language": "python",
   "name": "python3"
  },
  "language_info": {
   "codemirror_mode": {
    "name": "ipython",
    "version": 3
   },
   "file_extension": ".py",
   "mimetype": "text/x-python",
   "name": "python",
   "nbconvert_exporter": "python",
   "pygments_lexer": "ipython3",
   "version": "3.7.0"
  },
  "pycharm": {
   "stem_cell": {
    "cell_type": "raw",
    "source": [],
    "metadata": {
     "collapsed": false
    }
   }
  }
 },
 "nbformat": 4,
 "nbformat_minor": 4
}