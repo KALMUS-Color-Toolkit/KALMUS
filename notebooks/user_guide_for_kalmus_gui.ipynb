{
 "cells": [
  {
   "cell_type": "markdown",
   "metadata": {},
   "source": [
    "# Welcome to the Interactive User Guide for KALMUS (GUI)!\n",
    "\n",
    "In this notebook, I will introduce:  \n",
    "1. __Installation of KALMUS package__\n",
    "2. __What is KALMUS for__\n",
    "    - Extract color information from film frames or brightness information from monochrome film frames using different color metrics and image sampling methods.   \n",
    "    - Generate a barcode representation of the color/brightness information of a film. 3D information in 2D representation. \n",
    "    - Compare different barcodes globally through similarity measures on images. Interpret the difference through similarity scores.\n",
    "    - Compare segments of barcodes locally using functions embedded in GUI. Interpret the difference with domain knowledge and contextual information extracted by KALMUS.  \n",
    "3. __How to interact with KALMUS using its Graphic user interface__\n",
    "    - Visualize barcodes\n",
    "    - Generate barcodes\n",
    "    - Change barcodes\n",
    "    - Save barcodes\n",
    "    - Load barcodes\n",
    "    - Compare barcodes"
   ]
  },
  {
   "cell_type": "markdown",
   "metadata": {},
   "source": [
    "## 1. Installation\n",
    "There are two ways that you could install KALMUS on you local machine:  \n",
    "1. (__Recommended__) Get the latest distribution of KALMUS from PyPI ([KALMUS Project Page on PyPI](https://pypi.org/project/kalmus/)).  \n",
    "Use command `$ pip install kalmus` or `$ pip install --upgrade kalmus` (if kalmus has been installed) to install the latest version of KALMUS package. All dependencies should be automatically installed during this process.\n",
    "\n",
    "2. Alternatively, you could install the KALMUS locally by first cloning the GitHub repo of Kalmus ([GitHub page](https://github.com/KALMUS-Color-Toolkit/KALMUS)). Then, move to the top directory of cloned KALMUS project and install using command `pip install .`. \n",
    "\n",
    "Once the package is installed, you could verify the version of KALMUS package using command `$ pip show kalmus`  \n",
    "<img src=\"notebook_figures/kalmus_version.png\" alt=\"drawing\" width=\"800 px\"/>"
   ]
  },
  {
   "cell_type": "markdown",
   "metadata": {},
   "source": [
    "## 2. What is KALMUS for?\n",
    "KALMUS is a Python package for the computational analysis of colors in films. It addresses how to best describe a film's color. This package is optimized for two purposes: (1) various ways to measure, calculate and compare a film's color and (2) various ways to visualize a film's color.\n",
    "\n",
    "Kalmus"
   ]
  },
  {
   "cell_type": "markdown",
   "metadata": {},
   "source": [
    "## 3. How to interact with KALMUS through Graphic User Interface"
   ]
  },
  {
   "cell_type": "code",
   "execution_count": null,
   "metadata": {},
   "outputs": [],
   "source": [
    "from kalmus import command_line_gui"
   ]
  },
  {
   "cell_type": "code",
   "execution_count": null,
   "metadata": {},
   "outputs": [],
   "source": [
    "command_line_gui.main();"
   ]
  },
  {
   "cell_type": "code",
   "execution_count": null,
   "metadata": {},
   "outputs": [],
   "source": []
  },
  {
   "cell_type": "code",
   "execution_count": null,
   "metadata": {},
   "outputs": [],
   "source": []
  }
 ],
 "metadata": {
  "kernelspec": {
   "display_name": "Python 3",
   "language": "python",
   "name": "python3"
  },
  "language_info": {
   "codemirror_mode": {
    "name": "ipython",
    "version": 3
   },
   "file_extension": ".py",
   "mimetype": "text/x-python",
   "name": "python",
   "nbconvert_exporter": "python",
   "pygments_lexer": "ipython3",
   "version": "3.7.0"
  }
 },
 "nbformat": 4,
 "nbformat_minor": 4
}
