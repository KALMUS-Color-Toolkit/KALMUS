{
 "cells": [
  {
   "cell_type": "markdown",
   "metadata": {},
   "source": [
    "# Welcome to the Advanced User Guide for KALMUS (API)!\n",
    "\n",
    "In this notebook, I will introduce:\n",
    "\n",
    "1. **How to create your own Barcode Class by inheriting either:**\n",
    "    - ColorBarcode\n",
    "    - BrightnessBarcode\n",
    "2. **Some real examples that overwrites:**\n",
    "    - process_frame method of Barcode Class\n",
    "    - get_color_from_frame method of Barcode Class  \n",
    "    to create new Barcode Class that retrieve information from film that is even outside Color and Brightness!"
   ]
  },
  {
   "cell_type": "markdown",
   "metadata": {},
   "source": [
    "# 1. Import kalmus modules"
   ]
  },
  {
   "cell_type": "code",
   "execution_count": 12,
   "metadata": {},
   "outputs": [],
   "source": [
    "from kalmus.barcodes.Barcode import ColorBarcode, BrightnessBarcode\n",
    "import kalmus.utils.artist as artist\n",
    "import matplotlib.pyplot as plt"
   ]
  },
  {
   "cell_type": "markdown",
   "metadata": {},
   "source": [
    "# 2. What are the important components of a Barcode?\n",
    "\n",
    "- Barcode Class:\n"
   ]
  },
  {
   "cell_type": "markdown",
   "metadata": {},
   "source": [
    "# 3. Do you know you could bake a Barcode with your own recipe of frame and color?"
   ]
  },
  {
   "cell_type": "code",
   "execution_count": 4,
   "metadata": {},
   "outputs": [],
   "source": [
    "class MyBarcode(ColorBarcode):\n",
    "    def __init__(self, color_metric, frame_type, sampled_frame_rate=1, skip_over=0, total_frames=100, barcode_type=\"Color\"):\n",
    "        super().__init__(color_metric, frame_type, sampled_frame_rate, skip_over, total_frames, barcode_type)\n",
    "    \n",
    "    \n",
    "    def process_frame(self, frame):\n",
    "        return frame"
   ]
  },
  {
   "cell_type": "code",
   "execution_count": 6,
   "metadata": {},
   "outputs": [],
   "source": [
    "barcode = MyBarcode(\"Average\", \"Whole_frame\")"
   ]
  },
  {
   "cell_type": "code",
   "execution_count": 7,
   "metadata": {},
   "outputs": [],
   "source": [
    "barcode.collect_colors(\"notebook_example_data/i_robot_video.mp4\")"
   ]
  },
  {
   "cell_type": "code",
   "execution_count": 10,
   "metadata": {},
   "outputs": [],
   "source": [
    "barcode.reshape_barcode(20)"
   ]
  },
  {
   "cell_type": "code",
   "execution_count": 13,
   "metadata": {},
   "outputs": [
    {
     "data": {
      "image/png": "[encoded data removed]",
      "text/plain": [
       "<Figure size 432x288 with 1 Axes>"
      ]
     },
     "metadata": {
      "needs_background": "light"
     },
     "output_type": "display_data"
    }
   ],
   "source": [
    "plt.figure()\n",
    "plt.imshow(barcode.get_barcode())\n",
    "plt.show()"
   ]
  },
  {
   "cell_type": "code",
   "execution_count": 17,
   "metadata": {},
   "outputs": [
    {
     "data": {
      "text/plain": [
       "['_determine_save_frame_param',\n",
       " '_resize_frame',\n",
       " 'add_meta_data',\n",
       " 'automatic_find_letterbox',\n",
       " 'collect_colors',\n",
       " 'enable_rescale_frames_in_generation',\n",
       " 'enable_save_frames',\n",
       " 'enable_user_defined_letterbox',\n",
       " 'find_film_letterbox',\n",
       " 'get_barcode',\n",
       " 'get_color_from_frame',\n",
       " 'multi_thread_collect_colors',\n",
       " 'process_frame',\n",
       " 'read_video',\n",
       " 'remove_letter_box_from_frame',\n",
       " 'reshape_barcode',\n",
       " 'save_as_json',\n",
       " 'save_frames',\n",
       " 'set_letterbox_bound',\n",
       " 'thread_collect_color_start_to_end']"
      ]
     },
     "execution_count": 17,
     "metadata": {},
     "output_type": "execute_result"
    }
   ],
   "source": []
  },
  {
   "cell_type": "code",
   "execution_count": null,
   "metadata": {},
   "outputs": [],
   "source": []
  }
 ],
 "metadata": {
  "kernelspec": {
   "display_name": "Python 3",
   "language": "python",
   "name": "python3"
  },
  "language_info": {
   "codemirror_mode": {
    "name": "ipython",
    "version": 3
   },
   "file_extension": ".py",
   "mimetype": "text/x-python",
   "name": "python",
   "nbconvert_exporter": "python",
   "pygments_lexer": "ipython3",
   "version": "3.7.0"
  }
 },
 "nbformat": 4,
 "nbformat_minor": 4
}
